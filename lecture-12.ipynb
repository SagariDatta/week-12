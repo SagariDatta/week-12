{
 "cells": [
  {
   "cell_type": "code",
   "execution_count": 1,
   "metadata": {
    "slideshow": {
     "slide_type": "skip"
    }
   },
   "outputs": [],
   "source": [
    "from matplotlib import pyplot as plt\n",
    "import numpy as np\n",
    "import pandas as pd\n",
    "import geopandas as gpd\n",
    "np.random.seed(42)"
   ]
  },
  {
   "cell_type": "markdown",
   "metadata": {
    "slideshow": {
     "slide_type": "slide"
    }
   },
   "source": [
    "## Week 12: Web Servers, Interactive Web Apps, and Dashboards\n",
    "April 24, 2019"
   ]
  },
  {
   "cell_type": "markdown",
   "metadata": {
    "slideshow": {
     "slide_type": "slide"
    }
   },
   "source": [
    "## Housekeeping\n",
    "\n",
    "- Final project proposal and assignment #6 due on Friday\n",
    "    - Feedback on proposals early next week\n",
    "- Next week: deploying dashboards to the Web + time to work on final project\n",
    "- Final project due: **May 13th** \n",
    "\n",
    "**Final project details:** https://github.com/MUSA-620-Spring-2019/final-project"
   ]
  },
  {
   "cell_type": "markdown",
   "metadata": {
    "slideshow": {
     "slide_type": "slide"
    }
   },
   "source": [
    "## Last time: advanced data viz\n",
    "\n",
    "- d3, Vega-Lite\n",
    "- Getting setup with Github Pages\n",
    "- Embedding interactive charts on the Web\n",
    "    - Altair\n",
    "    - Observable notebook cells\n",
    "    - Folium html files\n",
    "    \n",
    "\n"
   ]
  },
  {
   "cell_type": "markdown",
   "metadata": {
    "slideshow": {
     "slide_type": "slide"
    }
   },
   "source": [
    "## Today\n",
    "\n",
    "- One more example of Observable + Github Pages\n",
    "- Introduction to web servers + Flask\n",
    "- Interactive dashboards with Flask + Altair\n",
    "- Interactive dashboards with Dash"
   ]
  },
  {
   "cell_type": "markdown",
   "metadata": {
    "slideshow": {
     "slide_type": "slide"
    }
   },
   "source": [
    "## Part 1: Observable + Github Pages\n",
    "\n",
    "One more example: multiple cells + interactive widgets"
   ]
  },
  {
   "cell_type": "markdown",
   "metadata": {
    "slideshow": {
     "slide_type": "slide"
    }
   },
   "source": [
    "## But first: updates to the Github Pages template!\n",
    "\n",
    "- Fixed a few issues with loading Leaflet styling properly\n",
    "- https://github.com/MUSA-620-Spring-2019/data-viz-template"
   ]
  },
  {
   "cell_type": "markdown",
   "metadata": {
    "slideshow": {
     "slide_type": "slide"
    }
   },
   "source": [
    "## Merging in changes with a Pull Request\n",
    "\n",
    "- On your forked version of \"data-viz-template\":\n",
    "    - Go to the \"Pull Requests\" tab\n",
    "    - Click on \"New Pull Request\"\n",
    "    - Merge in the changes from the \"MUSA-620-Spring-2019/data-viz-template\" repository\n",
    "- [More information on creating pull requests](https://help.github.com/en/articles/creating-a-pull-request)"
   ]
  },
  {
   "cell_type": "markdown",
   "metadata": {
    "slideshow": {
     "slide_type": "slide"
    }
   },
   "source": [
    "## Embedding the shootings map on Github Pages \n",
    "\n",
    "Let's embed multiple cells from [this notebook](https://observablehq.com/@nickhand/shootings-in-philadelphia)"
   ]
  },
  {
   "cell_type": "markdown",
   "metadata": {
    "slideshow": {
     "slide_type": "subslide"
    }
   },
   "source": [
    "#### Four cells to embed:\n",
    "\n",
    "- \"map\": Leaflet map with circle markers\n",
    "- \"heatmap\": Leaflet heat map\n",
    "- \"viewof slider\": the slider widget \n",
    "- \"title\": the HTML text cell giving the number of shootings"
   ]
  },
  {
   "cell_type": "markdown",
   "metadata": {
    "slideshow": {
     "slide_type": "subslide"
    }
   },
   "source": [
    "## Let's take a look...\n",
    "\n",
    "https://observablehq.com/@nickhand/shootings-in-philadelphia"
   ]
  },
  {
   "cell_type": "markdown",
   "metadata": {
    "slideshow": {
     "slide_type": "subslide"
    }
   },
   "source": [
    "## Declaring the cells in the header\n",
    "\n",
    "<img src=\"imgs/github_pages_post_header.png\" width=700></img>"
   ]
  },
  {
   "cell_type": "markdown",
   "metadata": {
    "slideshow": {
     "slide_type": "subslide"
    }
   },
   "source": [
    "## And add the matching \"div\" elements\n",
    "\n",
    "<img src=\"imgs/github_pages_post_divs.png\" width=500>"
   ]
  },
  {
   "cell_type": "markdown",
   "metadata": {
    "slideshow": {
     "slide_type": "subslide"
    }
   },
   "source": [
    "See the full post at: https://github.com/MUSA-620-Spring-2019/data-viz-template/blob/master/_posts/2019-04-23-shootings.md"
   ]
  },
  {
   "cell_type": "markdown",
   "metadata": {
    "slideshow": {
     "slide_type": "slide"
    }
   },
   "source": [
    "## The final product\n",
    "\n",
    "https://musa-620-spring-2019.github.io/data-viz-template/shootings/"
   ]
  },
  {
   "cell_type": "markdown",
   "metadata": {
    "slideshow": {
     "slide_type": "subslide"
    }
   },
   "source": [
    "### Note\n",
    "\n",
    "In the original Observable notebook, I adjusted the \"width\" and \"height\" of the map so it would look nicer embedded on Github Pages.\n",
    "\n",
    "**Typically you won't want to have widths any larger than 700px or so**"
   ]
  },
  {
   "cell_type": "markdown",
   "metadata": {
    "slideshow": {
     "slide_type": "slide"
    }
   },
   "source": [
    "## Now onto Web Servers...."
   ]
  },
  {
   "cell_type": "markdown",
   "metadata": {
    "slideshow": {
     "slide_type": "subslide"
    }
   },
   "source": [
    "## Some (oversimplified) basics\n",
    "\n",
    "- The browser needs a file -> it requests it via the HTTP protocol\n",
    "- The web server receives the request, and if the requested file exists, sends it back to the browser using HTTP"
   ]
  },
  {
   "cell_type": "markdown",
   "metadata": {
    "slideshow": {
     "slide_type": "subslide"
    }
   },
   "source": [
    "<img src=\"imgs/web-server.png\" width=600>"
   ]
  },
  {
   "cell_type": "markdown",
   "metadata": {
    "slideshow": {
     "slide_type": "subslide"
    }
   },
   "source": [
    "## Two main types:\n",
    "\n",
    "**Static** and **dynamic**"
   ]
  },
  {
   "cell_type": "markdown",
   "metadata": {
    "slideshow": {
     "slide_type": "slide"
    }
   },
   "source": [
    "## Static Web Servers\n",
    "\n",
    "- Serves hosted HTML files to the browser \"as-is\"\n",
    "- Response from the server is always the same — *static*\n",
    "- Example: Github Pages"
   ]
  },
  {
   "cell_type": "markdown",
   "metadata": {
    "slideshow": {
     "slide_type": "slide"
    }
   },
   "source": [
    "## Dynamic Web Servers\n",
    "\n",
    "- Capable of serving *dynamic* content to browsers\n",
    "- Extra software that executes *server-side* before sending the response back to the browser\n",
    "- Common example: querying a database server\n",
    "    - browser sends request for data with specific query parameters\n",
    "    - server responds dynamically, sending the requested data"
   ]
  },
  {
   "cell_type": "markdown",
   "metadata": {
    "slideshow": {
     "slide_type": "subslide"
    }
   },
   "source": [
    "For more information: [Mozilla documentation](https://developer.mozilla.org/en-US/docs/Learn/Common_questions/What_is_a_web_server)"
   ]
  },
  {
   "cell_type": "markdown",
   "metadata": {
    "slideshow": {
     "slide_type": "slide"
    }
   },
   "source": [
    "## CARTO: a dynamic web server\n",
    "\n",
    "<img src=\"imgs/carto-url.png\" width=900></img>"
   ]
  },
  {
   "cell_type": "markdown",
   "metadata": {
    "slideshow": {
     "slide_type": "subslide"
    }
   },
   "source": [
    "## Anatomy of a request\n",
    "\n",
    "- **Base URL**: shown in blue\n",
    "- **?**: separates the base URL from the query parameters\n",
    "- **Query parameters**: tells the web server how to respond to the request\n",
    "- **&**: separator between the query parameters"
   ]
  },
  {
   "cell_type": "markdown",
   "metadata": {
    "slideshow": {
     "slide_type": "slide"
    }
   },
   "source": [
    "## Flask: a micro web framework in Python\n",
    "\n",
    "A very lightweight package for framework for dynamic web apps\n",
    "\n",
    "[Flask documentation](http://flask.pocoo.org/docs/1.0/)"
   ]
  },
  {
   "cell_type": "markdown",
   "metadata": {
    "slideshow": {
     "slide_type": "subslide"
    }
   },
   "source": [
    "\n",
    "**Today:** building dynamic web apps with Flask\n",
    "\n",
    "**Next week:** deploying those web apps remotely\n"
   ]
  },
  {
   "cell_type": "markdown",
   "metadata": {
    "slideshow": {
     "slide_type": "slide"
    }
   },
   "source": [
    "## Example 1: your first Flask app\n",
    "\n",
    "\n",
    "- Store the code for our app in a \".py\" file: \n",
    "- Create a \"local\" web server by executing our application code locally\n",
    "- This allows us to build and test our app before deploying the code to a remote web server"
   ]
  },
  {
   "cell_type": "markdown",
   "metadata": {
    "slideshow": {
     "slide_type": "subslide"
    }
   },
   "source": [
    "## Getting set up\n",
    "\n",
    "From within the Jupyter notebook interface: \n",
    "- Navigate to the \"hello-flask\" folder\n",
    "- Click on the \"hello.py\" file to launch the file editor\n",
    "- Launch a new terminal window by clicking on \"New -> Terminal\"\n",
    "\n",
    "Flask code: [hello.py](https://github.com/MUSA-620-Spring-2019/week-12/blob/master/hello-flask/hello.py)"
   ]
  },
  {
   "cell_type": "markdown",
   "metadata": {
    "slideshow": {
     "slide_type": "subslide"
    }
   },
   "source": [
    "**Important: this won't work on Binder, it needs to be running on your local machine**"
   ]
  },
  {
   "cell_type": "markdown",
   "metadata": {
    "slideshow": {
     "slide_type": "subslide"
    }
   },
   "source": [
    "## To start a local server\n",
    "\n",
    "Run the following commands from the Terminal window in Jupyter notebook:\n",
    "\n",
    "```bash\n",
    "cd hello-flask\n",
    "python hello.py\n",
    "```"
   ]
  },
  {
   "cell_type": "markdown",
   "metadata": {
    "slideshow": {
     "slide_type": "subslide"
    }
   },
   "source": [
    "<img src=\"imgs/starting-flask.png\" width=800>"
   ]
  },
  {
   "cell_type": "markdown",
   "metadata": {
    "slideshow": {
     "slide_type": "slide"
    }
   },
   "source": [
    "## The \"python\" command\n",
    "\n",
    "- This will execute the `*.py` file\n",
    "- Only the code below `if __name__ == '__main__':` gets executed"
   ]
  },
  {
   "cell_type": "markdown",
   "metadata": {
    "slideshow": {
     "slide_type": "subslide"
    }
   },
   "source": [
    "## Take a look at hello.py\n",
    "\n",
    "<img src=\"imgs/python-main.py\" width=600>"
   ]
  },
  {
   "cell_type": "markdown",
   "metadata": {
    "slideshow": {
     "slide_type": "subslide"
    }
   },
   "source": [
    "## View your application!\n",
    "\n",
    "Navigate in the browser to: http://0.0.0.0:5000\n",
    "\n",
    "You should see the text: \"Hello, World!\""
   ]
  },
  {
   "cell_type": "markdown",
   "metadata": {
    "slideshow": {
     "slide_type": "slide"
    }
   },
   "source": [
    "## Editing your app with a running server\n",
    "\n",
    "Try editing the `hello.py` file in your editor, saving, and re-loading the application page. You should see the app update to reflect the changes!"
   ]
  },
  {
   "cell_type": "markdown",
   "metadata": {
    "slideshow": {
     "slide_type": "slide"
    }
   },
   "source": [
    "## Example 2: using templates\n",
    "\n",
    "- Flask can load and render HTML files when specific routes are requested by the browser\n",
    "- Templates should be stored in a `templates/` directory\n",
    "- The `hello-template.py` app loads the `templates/hello.html` when the `/hello/` route is requested by the browser\n",
    "\n",
    "Flask code: [hello-template.py](https://github.com/MUSA-620-Spring-2019/week-12/blob/master/hello-flask/hello-template.py)"
   ]
  },
  {
   "cell_type": "markdown",
   "metadata": {
    "slideshow": {
     "slide_type": "subslide"
    }
   },
   "source": [
    "## From the terminal window\n",
    "\n",
    "```bash\n",
    "python hello-template.py\n",
    "```"
   ]
  },
  {
   "cell_type": "markdown",
   "metadata": {
    "slideshow": {
     "slide_type": "subslide"
    }
   },
   "source": [
    "The main page (\"/\") renders the same thing as the previous app (\"Hello, World!\").\n",
    "\n",
    "**Navigate to the \"/hello/\" route and you should see:**\n",
    "\n",
    "<img src=\"imgs/flask-template.png\" width=600>"
   ]
  },
  {
   "cell_type": "markdown",
   "metadata": {
    "slideshow": {
     "slide_type": "slide"
    }
   },
   "source": [
    "## Example 3: setting up an API with request parameters\n",
    "\n",
    "`hello-api.py`: a more sophisticated example using *request parameters**\n",
    "\n",
    "Run: \n",
    "\n",
    "```bash\n",
    "python hello-api.py\n",
    "```\n",
    "\n",
    "Flask code: [hello-api.py](https://github.com/MUSA-620-Spring-2019/week-12/blob/master/hello-flask/hello-api.py)"
   ]
  },
  {
   "cell_type": "markdown",
   "metadata": {
    "slideshow": {
     "slide_type": "subslide"
    }
   },
   "source": [
    "## Navigate to the \"/shootings\" route\n",
    "\n",
    "This uses default request parameters: days = 90 and fatal = 0\n",
    "\n",
    "<img src=\"imgs/flask-shootings.png\" width=600>"
   ]
  },
  {
   "cell_type": "markdown",
   "metadata": {
    "slideshow": {
     "slide_type": "subslide"
    }
   },
   "source": [
    "## Now pass \"days\" and \"fatal\" parameters\n",
    "\n",
    "This returns the number of fatal/nonfatal shootings in the past X \"days\"\n",
    "\n",
    "<img src=\"imgs/flask-shootings-2.png\" width=700>"
   ]
  },
  {
   "cell_type": "markdown",
   "metadata": {
    "slideshow": {
     "slide_type": "slide"
    }
   },
   "source": [
    "## Getting closer to a more realistic use case\n",
    "\n",
    "**Steps:**\n",
    "1. Get request parameters from the browser (input by the user)\n",
    "1. Query CARTO database for data based on that input\n",
    "1. Perform an operation on that data (in this case, count number of shootings)\n",
    "1. Return computed result back to the browser"
   ]
  },
  {
   "cell_type": "markdown",
   "metadata": {
    "slideshow": {
     "slide_type": "slide"
    }
   },
   "source": [
    "## Part 3: interactive dashboards with Flask + Altair\n",
    "\n",
    "**Two key elements:**\n",
    "\n",
    "- Altair charts can be fully represented as JSON\n",
    "- Our Flask server functions can return JSON to the browser\n",
    "\n"
   ]
  },
  {
   "cell_type": "markdown",
   "metadata": {
    "slideshow": {
     "slide_type": "slide"
    }
   },
   "source": [
    "## The Flask + Altair workflow\n",
    "\n",
    "1. Browser sends a request to the server, potentially with some user input parameters\n",
    "1. Flask gets the data and performs the requested calculation\n",
    "1. Altair makes the chart based on that data\n",
    "1. Flask sends the JSON specification of the Altair chart back to the browser\n",
    "1. The browser displays the chart"
   ]
  },
  {
   "cell_type": "markdown",
   "metadata": {
    "slideshow": {
     "slide_type": "slide"
    }
   },
   "source": [
    "## 3 examples in the \"flask-altair\" folder:\n",
    "\n",
    "1. `app1.py`: Plotting the number of shootings per neighborhood\n",
    "1. `app2.py`: Use an HTML template to allow the user to input the number of days to query\n",
    "1. `app3.py`: Add multiple, cross-filtered charts for an interactive dashboard"
   ]
  },
  {
   "cell_type": "markdown",
   "metadata": {
    "slideshow": {
     "slide_type": "slide"
    }
   },
   "source": [
    "## Example 1\n",
    "\n",
    "Query the CARTO shootings database, do a spatial join with Philly neighborhoods, and plot the number of shootings per neighborhood.\n",
    "\n",
    "- Flask code: [app1.py](https://github.com/MUSA-620-Spring-2019/week-12/blob/master/flask-altair/app1.py)\n",
    "- HTML template: [template1.html](https://github.com/MUSA-620-Spring-2019/week-12/blob/master/flask-altair/templates/template1.html)"
   ]
  },
  {
   "cell_type": "markdown",
   "metadata": {
    "slideshow": {
     "slide_type": "slide"
    }
   },
   "source": [
    "## Embedding the charts\n",
    "\n",
    "We'll use template HTML files that use the \"vegaEmbed\" Javascript function to embed our Altair charts in a specified \"div\" element\n"
   ]
  },
  {
   "cell_type": "markdown",
   "metadata": {
    "slideshow": {
     "slide_type": "subslide"
    }
   },
   "source": [
    "## How this works in practice\n",
    "\n",
    "<img src=\"imgs/flask-altair-1.png\" width=500>\n",
    "\n",
    "See [template1.html](https://github.com/MUSA-620-Spring-2019/week-12/blob/master/flask-altair/templates/template1.html)"
   ]
  },
  {
   "cell_type": "markdown",
   "metadata": {
    "slideshow": {
     "slide_type": "subslide"
    }
   },
   "source": [
    "1. The \"/chart\" URL will return the JSON specification for the Altair chart\n",
    "1. The \"embedChart()\" function embeds this JSON in the \"div\" element with id \"chart\"\n",
    "\n",
    "This template is **reusable**: you just need to specify a Flask function that returns the JSON specification for the \"/chart\" route. "
   ]
  },
  {
   "cell_type": "markdown",
   "metadata": {
    "slideshow": {
     "slide_type": "subslide"
    }
   },
   "source": [
    "## Example 2: adding request parameters\n",
    "\n",
    "**Major changes/additions**\n",
    "- Added a range slider for user interactivity via request parameters\n",
    "- Add a better HTML stylesheet to improve the formatting\n",
    "- Add more text elements to the HTML template via the `<p>` paragraph tags"
   ]
  },
  {
   "cell_type": "markdown",
   "metadata": {
    "slideshow": {
     "slide_type": "subslide"
    }
   },
   "source": [
    "- Flask code: [app2.py](https://github.com/MUSA-620-Spring-2019/week-12/blob/master/flask-altair/app2.py)\n",
    "- HTML template: [template2.html](https://github.com/MUSA-620-Spring-2019/week-12/blob/master/flask-altair/templates/template2.html)"
   ]
  },
  {
   "cell_type": "markdown",
   "metadata": {
    "slideshow": {
     "slide_type": "subslide"
    }
   },
   "source": [
    "We'll use a new HTML template that includes a range slider: \n",
    "\n",
    "<img src=\"imgs/flask-altair-2.png\" width=600>\n",
    "\n",
    "See [template2.html](https://github.com/MUSA-620-Spring-2019/week-12/blob/master/flask-altair/templates/template2.html)"
   ]
  },
  {
   "cell_type": "markdown",
   "metadata": {
    "slideshow": {
     "slide_type": "subslide"
    }
   },
   "source": [
    "- When the slider value changes, the above code calls \"embedChart()\" with a URL that includes the \"days\" value as a request parameter\n",
    "- This reloads the charts using the data requested by the user"
   ]
  },
  {
   "cell_type": "markdown",
   "metadata": {
    "slideshow": {
     "slide_type": "subslide"
    }
   },
   "source": [
    "## Let's see it in action\n",
    "\n",
    "Navigate to the terminal window and run `python app2.py` from the \"flask-altair/\"  folder"
   ]
  },
  {
   "cell_type": "markdown",
   "metadata": {
    "slideshow": {
     "slide_type": "slide"
    }
   },
   "source": [
    "## Example 3: an interactive dashboard\n",
    "\n",
    "- We can leverage the built-in horizontal/vertical concatenation functionality of Altair to create interactive dashboards\n",
    "- The Flask function will return the combined JSON specification for the combined dashboard\n",
    "- Flask code: [app3.py](https://github.com/MUSA-620-Spring-2019/week-12/blob/master/flask-altair/app3.py)\n",
    "- HTML template: [template2.html](https://github.com/MUSA-620-Spring-2019/week-12/blob/master/flask-altair/templates/template2.html)\n"
   ]
  },
  {
   "cell_type": "markdown",
   "metadata": {
    "slideshow": {
     "slide_type": "subslide"
    }
   },
   "source": [
    "## Let's see it in action\n",
    "\n",
    "Navigate to the terminal window and run `python app3.py` from the \"flask-altair/\"  folder"
   ]
  },
  {
   "cell_type": "markdown",
   "metadata": {
    "slideshow": {
     "slide_type": "slide"
    }
   },
   "source": [
    "## Comparing Flask + Altair to Github Pages\n",
    "\n",
    "- Flask + Altair has more potential for user interactivity than when using Github Pages + Altair \n",
    "    - with Github Pages + Altair, the interactivity is confined to the chart tooltip, etc\n",
    "- Flask + Altair is similar to Observable + Github Pages, but charting is done in pure Python\n",
    "    - both require some knowledge of HTML for e.g., widgets, sliders, etc.\n",
    "    \n",
    "**My workflow:** prototype using Altair in a Jupyter notebook, then deploy with Flask"
   ]
  },
  {
   "cell_type": "markdown",
   "metadata": {
    "slideshow": {
     "slide_type": "slide"
    }
   },
   "source": [
    "## The downsides to Flask + Altair\n",
    "\n",
    "- Dealing more directly with HTML/CSS \n",
    "- Inserting the narrative text elements is messier — must be done via `<p>` tags rather than in Markdown"
   ]
  },
  {
   "cell_type": "markdown",
   "metadata": {
    "slideshow": {
     "slide_type": "subslide"
    }
   },
   "source": [
    "## HTML and CSS tutorials / references\n",
    "\n",
    "- [HTML Tutorial](https://developer.mozilla.org/en-US/docs/Learn/HTML/Introduction_to_HTML)\n",
    "- [CSS Tutorial](https://developer.mozilla.org/en-US/docs/Learn/CSS/Introduction_to_CSS)"
   ]
  },
  {
   "cell_type": "markdown",
   "metadata": {
    "slideshow": {
     "slide_type": "slide"
    }
   },
   "source": [
    "## Part 4: Dash\n",
    "\n",
    "\n",
    "The result of Python programmers asking the question: **can we build a dashboard just in Python?**"
   ]
  },
  {
   "cell_type": "markdown",
   "metadata": {
    "slideshow": {
     "slide_type": "subslide"
    }
   },
   "source": [
    "The answer is yes...for the most part.\n",
    "\n",
    "You still need to use *some* CSS styling and know about different HTML elements. But everything is coded in Python."
   ]
  },
  {
   "cell_type": "markdown",
   "metadata": {
    "slideshow": {
     "slide_type": "slide"
    }
   },
   "source": [
    "## Dash\n",
    "\n",
    "- Built on Flask, similar web framework setup\n",
    "- Construct Python wrappers of common HTML elements, like \"div\", \"p\", etc.\n",
    "- Allows you to define layout of page purely in Python\n",
    "- Use Python functions to control how browser interacts with the app — just like Flask"
   ]
  },
  {
   "cell_type": "markdown",
   "metadata": {
    "slideshow": {
     "slide_type": "slide"
    }
   },
   "source": [
    "## Benefits\n",
    "\n",
    "- Everything can be done in Python — no more HTML templates\n",
    "- Use Python to define how user input elements (e.g., sliders) interact with server — no more custom Javascript\n",
    "- Very sleek, beautiful widgets and interactive components built in to the library\n",
    "- Can handle Markdown too\n",
    "- Good tutorials and user guide — https://dash.plot.ly/"
   ]
  },
  {
   "cell_type": "markdown",
   "metadata": {
    "slideshow": {
     "slide_type": "slide"
    }
   },
   "source": [
    "## Downsides\n",
    "\n",
    "- Built to be used with the [Plotly](https://plot.ly/python) visualization library\n",
    "- Private company that has open-sourced their interactive visualization library\n",
    "- A bit more work to get non-Plotly visualizations working — need to use our IFrame trick"
   ]
  },
  {
   "cell_type": "markdown",
   "metadata": {
    "slideshow": {
     "slide_type": "slide"
    }
   },
   "source": [
    "## The general workflow\n",
    "\n",
    "In your Python Dash app, there are two main steps:\n",
    "\n",
    "1. Define the HTML layout, e.g., \"div\" elements, slider elements, etc. \n",
    "1. Define functions that take inputs from the interactive widgets from Step 1. and return the output for other HTML elements. \n",
    "    - When the user changes a slider, dropdown, etc, the function will run, and return the updated output"
   ]
  },
  {
   "cell_type": "markdown",
   "metadata": {
    "slideshow": {
     "slide_type": "slide"
    }
   },
   "source": [
    "## Getting started with Dash\n",
    "\n",
    "https://dash.plot.ly/getting-started"
   ]
  },
  {
   "cell_type": "markdown",
   "metadata": {
    "slideshow": {
     "slide_type": "subslide"
    }
   },
   "source": [
    "## Altair + Dash\n",
    "\n",
    "- You are welcome to incorporate Plotly visualizations directly into your dashboard, but it can get complicated quickly\n",
    "- I am not a huge fan of Plotly's API and documentation\n",
    "- Focus on a few examples showing Altair + Dash\n",
    "\n",
    "**Key:** any valid \".html\" block can be embedded within an \"IFrame\" element, as we have seen"
   ]
  },
  {
   "cell_type": "markdown",
   "metadata": {
    "slideshow": {
     "slide_type": "slide"
    }
   },
   "source": [
    "## Two key elements of Dash apps\n",
    "\n",
    "- You must define the \"app.layout\" — this is your HTML layout\n",
    "- You must define your *callback* functions and the input/output that they take.\n",
    "    - You *mark* certain functions as callbacks so Dash knows they interact with your HTML code."
   ]
  },
  {
   "cell_type": "markdown",
   "metadata": {
    "slideshow": {
     "slide_type": "slide"
    }
   },
   "source": [
    "## Steps:\n",
    "\n",
    "1. Define a IFrame() element as part of the layout\n",
    "1. Given some user input, generate our Altair charts and save them as HTML\n",
    "1. Assign the chart HTML to the IFrame on our page"
   ]
  },
  {
   "cell_type": "markdown",
   "metadata": {
    "slideshow": {
     "slide_type": "slide"
    }
   },
   "source": [
    "## Let's see some examples...\n",
    "\n",
    "Two examples in the \"dash-altair/\" folder..."
   ]
  },
  {
   "cell_type": "markdown",
   "metadata": {
    "slideshow": {
     "slide_type": "slide"
    }
   },
   "source": [
    "## Visualizing the \"cars\" dataset\n",
    "\n",
    "Just like with Flask, we can run from the Jupyter terminal:\n",
    "\n",
    "```bash\n",
    "python dash_altair_cars.py\n",
    "```\n",
    "\n",
    "[Dash app](https://github.com/MUSA-620-Spring-2019/week-12/blob/master/dash-altair/dash_altair_cars.py)"
   ]
  },
  {
   "cell_type": "markdown",
   "metadata": {
    "slideshow": {
     "slide_type": "slide"
    }
   },
   "source": [
    "## Translating the shootings app to Dash\n",
    "\n",
    "We can run from the Jupyter terminal:\n",
    "\n",
    "```bash\n",
    "python dash_altair_shootings.py\n",
    "```\n",
    "\n",
    "[Dash app](https://github.com/MUSA-620-Spring-2019/week-12/blob/master/dash-altair/dash_altair_shootings.py)"
   ]
  },
  {
   "cell_type": "markdown",
   "metadata": {
    "slideshow": {
     "slide_type": "slide"
    }
   },
   "source": [
    "## More information: Dash user guide\n",
    "\n",
    "- https://dash.plot.ly/getting-started\n",
    "- Very good series of chapters illustrating different aspects of Dash\n",
    "- Relies on Plotly visualizations but idea is the same for IFrame elements"
   ]
  },
  {
   "cell_type": "markdown",
   "metadata": {
    "slideshow": {
     "slide_type": "slide"
    }
   },
   "source": [
    "## Web-based visualizations so far\n",
    "\n",
    "- Static\n",
    "    - Github Pages + Altair, Folium, Holoviews, Observable\n",
    "- Dynamic \n",
    "    - Flask + Altair\n",
    "    - Dash + Altair"
   ]
  },
  {
   "cell_type": "markdown",
   "metadata": {
    "slideshow": {
     "slide_type": "slide"
    }
   },
   "source": [
    "## Next time\n",
    "\n",
    "- A couple more examples of Dash using Folium, Holoviews\n",
    "- Deploying Web apps \n",
    "- Time to work on final project"
   ]
  },
  {
   "cell_type": "code",
   "execution_count": null,
   "metadata": {},
   "outputs": [],
   "source": []
  }
 ],
 "metadata": {
  "celltoolbar": "Slideshow",
  "kernelspec": {
   "display_name": "Python 3",
   "language": "python",
   "name": "python3"
  },
  "language_info": {
   "codemirror_mode": {
    "name": "ipython",
    "version": 3
   },
   "file_extension": ".py",
   "mimetype": "text/x-python",
   "name": "python",
   "nbconvert_exporter": "python",
   "pygments_lexer": "ipython3",
   "version": "3.6.8"
  }
 },
 "nbformat": 4,
 "nbformat_minor": 2
}
